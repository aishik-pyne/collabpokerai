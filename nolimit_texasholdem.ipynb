{
  "cells": [
    {
      "cell_type": "code",
      "execution_count": 1,
      "metadata": {
        "colab": {
          "base_uri": "https://localhost:8080/"
        },
        "id": "lIYdn1woOS1n",
        "outputId": "5622a9a1-eb19-4155-ea7e-3db0d889c9d7"
      },
      "outputs": [
        {
          "output_type": "stream",
          "name": "stdout",
          "text": [
            "Looking in indexes: https://pypi.org/simple, https://us-python.pkg.dev/colab-wheels/public/simple/\n",
            "Requirement already satisfied: open_spiel in /usr/local/lib/python3.9/dist-packages (1.2)\n",
            "Requirement already satisfied: absl-py>=0.10.0 in /usr/local/lib/python3.9/dist-packages (from open_spiel) (1.4.0)\n",
            "Requirement already satisfied: numpy>=1.21.5 in /usr/local/lib/python3.9/dist-packages (from open_spiel) (1.22.4)\n",
            "Requirement already satisfied: scipy>=1.7.3 in /usr/local/lib/python3.9/dist-packages (from open_spiel) (1.10.1)\n",
            "Requirement already satisfied: attrs>=19.3.0 in /usr/local/lib/python3.9/dist-packages (from open_spiel) (22.2.0)\n",
            "Requirement already satisfied: pip>=20.0.2 in /usr/local/lib/python3.9/dist-packages (from open_spiel) (22.0.4)\n"
          ]
        }
      ],
      "source": [
        "!pip install open_spiel"
      ]
    },
    {
      "cell_type": "code",
      "source": [
        "from open_spiel.python import policy\n",
        "from open_spiel.python.algorithms import expected_game_score\n",
        "import pyspiel \n",
        "from open_spiel.python.pytorch import deep_cfr"
      ],
      "metadata": {
        "id": "Y4Mue2fQXRwY"
      },
      "execution_count": 2,
      "outputs": []
    },
    {
      "cell_type": "code",
      "source": [
        "game = pyspiel.load_game(\"universal_poker\", {\n",
        "    \"betting\": \"nolimit\",\n",
        "    \"numPlayers\": 6,\n",
        "    \"numRounds\": 4,\n",
        "    \"stack\": \"20000 20000 20000 20000 20000 20000\",\n",
        "    \"blind\": \"50 100 0 0 0 0\",\n",
        "    \"firstPlayer\": \"3 1 1 1\",\n",
        "    \"numSuits\": 4,\n",
        "    \"numRanks\": 13,\n",
        "    \"numHoleCards\": 2,\n",
        "    \"numBoardCards\": \"0 3 1 1\"\n",
        "    })"
      ],
      "metadata": {
        "id": "rs9nuHk0Xk70"
      },
      "execution_count": 3,
      "outputs": []
    },
    {
      "cell_type": "code",
      "source": [
        "deep_cfr_solver = deep_cfr.DeepCFRSolver(\n",
        "    game,\n",
        "    policy_network_layers=(16, 16),\n",
        "    advantage_network_layers=(8, 8),\n",
        "    num_iterations = 40,\n",
        "    num_traversals = 4,\n",
        "    learning_rate = 1e-3,\n",
        "    batch_size_advantage=None,\n",
        "    batch_size_strategy = None,\n",
        "    memory_capacity = int(1e7)\n",
        ")"
      ],
      "metadata": {
        "id": "CtM_58IoXqoI",
        "outputId": "6efe10b7-e019-46c7-870f-196b4c1f3c58",
        "colab": {
          "base_uri": "https://localhost:8080/",
          "height": 235
        }
      },
      "execution_count": 5,
      "outputs": [
        {
          "output_type": "error",
          "ename": "TypeError",
          "evalue": "ignored",
          "traceback": [
            "\u001b[0;31m---------------------------------------------------------------------------\u001b[0m",
            "\u001b[0;31mTypeError\u001b[0m                                 Traceback (most recent call last)",
            "\u001b[0;32m<ipython-input-5-55e9cbbd5085>\u001b[0m in \u001b[0;36m<module>\u001b[0;34m\u001b[0m\n\u001b[0;32m----> 1\u001b[0;31m deep_cfr_solver = dqn.DQN(\n\u001b[0m\u001b[1;32m      2\u001b[0m     \u001b[0mgame\u001b[0m\u001b[0;34m,\u001b[0m\u001b[0;34m\u001b[0m\u001b[0;34m\u001b[0m\u001b[0m\n\u001b[1;32m      3\u001b[0m     \u001b[0mpolicy_network_layers\u001b[0m\u001b[0;34m=\u001b[0m\u001b[0;34m(\u001b[0m\u001b[0;36m16\u001b[0m\u001b[0;34m,\u001b[0m \u001b[0;36m16\u001b[0m\u001b[0;34m)\u001b[0m\u001b[0;34m,\u001b[0m\u001b[0;34m\u001b[0m\u001b[0;34m\u001b[0m\u001b[0m\n\u001b[1;32m      4\u001b[0m     \u001b[0madvantage_network_layers\u001b[0m\u001b[0;34m=\u001b[0m\u001b[0;34m(\u001b[0m\u001b[0;36m8\u001b[0m\u001b[0;34m,\u001b[0m \u001b[0;36m8\u001b[0m\u001b[0;34m)\u001b[0m\u001b[0;34m,\u001b[0m\u001b[0;34m\u001b[0m\u001b[0;34m\u001b[0m\u001b[0m\n\u001b[1;32m      5\u001b[0m     \u001b[0mnum_iterations\u001b[0m \u001b[0;34m=\u001b[0m \u001b[0;36m40\u001b[0m\u001b[0;34m,\u001b[0m\u001b[0;34m\u001b[0m\u001b[0;34m\u001b[0m\u001b[0m\n",
            "\u001b[0;31mTypeError\u001b[0m: __init__() got an unexpected keyword argument 'policy_network_layers'"
          ]
        }
      ]
    },
    {
      "cell_type": "code",
      "source": [
        "_, advantage_losses, policy_loss = deep_cfr_solver.solve()"
      ],
      "metadata": {
        "id": "3haH-sCZZVp2"
      },
      "execution_count": null,
      "outputs": []
    },
    {
      "cell_type": "code",
      "source": [
        "for player, losses in advantage_losses.items():\n",
        "  print(f\"Advantage for player {player}: \", losses[:2] + [\"...\"] + losses[-2:])\n",
        "  print(f\"Advantage Buffer Size for player {player}: {len(deep_cfr_solver.advantage_buffers[player])}\")\n",
        "print(f\"Strategy Buffer Size: {len(deep_cfr_solver.strategy_buffer)}\")\n",
        "print(f\"Final policy loss: {policy_loss}\")"
      ],
      "metadata": {
        "id": "zJfOBLpVZgLH"
      },
      "execution_count": null,
      "outputs": []
    }
  ],
  "metadata": {
    "colab": {
      "name": "scratchpad",
      "provenance": []
    },
    "kernelspec": {
      "display_name": "Python 3",
      "name": "python3"
    },
    "accelerator": "GPU",
    "gpuClass": "standard"
  },
  "nbformat": 4,
  "nbformat_minor": 0
}