{
  "cells": [
    {
      "cell_type": "code",
      "execution_count": 1,
      "metadata": {
        "colab": {
          "base_uri": "https://localhost:8080/"
        },
        "id": "lIYdn1woOS1n",
        "outputId": "07668ee8-2ee0-4155-de6b-b06b52852168"
      },
      "outputs": [
        {
          "output_type": "stream",
          "name": "stdout",
          "text": [
            "Looking in indexes: https://pypi.org/simple, https://us-python.pkg.dev/colab-wheels/public/simple/\n",
            "Collecting rlcard[torch]\n",
            "  Downloading rlcard-1.1.0.tar.gz (265 kB)\n",
            "\u001b[2K     \u001b[90m━━━━━━━━━━━━━━━━━━━━━━━━━━━━━━━━━━━━━━━\u001b[0m \u001b[32m265.5/265.5 KB\u001b[0m \u001b[31m4.3 MB/s\u001b[0m eta \u001b[36m0:00:00\u001b[0m\n",
            "\u001b[?25h  Preparing metadata (setup.py) ... \u001b[?25l\u001b[?25hdone\n",
            "Requirement already satisfied: numpy>=1.16.3 in /usr/local/lib/python3.9/dist-packages (from rlcard[torch]) (1.22.4)\n",
            "Requirement already satisfied: termcolor in /usr/local/lib/python3.9/dist-packages (from rlcard[torch]) (2.2.0)\n",
            "Requirement already satisfied: torch in /usr/local/lib/python3.9/dist-packages (from rlcard[torch]) (1.13.1+cu116)\n",
            "Collecting GitPython\n",
            "  Downloading GitPython-3.1.31-py3-none-any.whl (184 kB)\n",
            "\u001b[2K     \u001b[90m━━━━━━━━━━━━━━━━━━━━━━━━━━━━━━━━━━━━━━━\u001b[0m \u001b[32m184.3/184.3 KB\u001b[0m \u001b[31m9.8 MB/s\u001b[0m eta \u001b[36m0:00:00\u001b[0m\n",
            "\u001b[?25hCollecting gitdb2\n",
            "  Downloading gitdb2-4.0.2-py3-none-any.whl (1.1 kB)\n",
            "Requirement already satisfied: matplotlib in /usr/local/lib/python3.9/dist-packages (from rlcard[torch]) (3.7.1)\n",
            "Collecting gitdb>=4.0.1\n",
            "  Downloading gitdb-4.0.10-py3-none-any.whl (62 kB)\n",
            "\u001b[2K     \u001b[90m━━━━━━━━━━━━━━━━━━━━━━━━━━━━━━━━━━━━━━━━\u001b[0m \u001b[32m62.7/62.7 KB\u001b[0m \u001b[31m8.0 MB/s\u001b[0m eta \u001b[36m0:00:00\u001b[0m\n",
            "\u001b[?25hRequirement already satisfied: cycler>=0.10 in /usr/local/lib/python3.9/dist-packages (from matplotlib->rlcard[torch]) (0.11.0)\n",
            "Requirement already satisfied: pillow>=6.2.0 in /usr/local/lib/python3.9/dist-packages (from matplotlib->rlcard[torch]) (8.4.0)\n",
            "Requirement already satisfied: packaging>=20.0 in /usr/local/lib/python3.9/dist-packages (from matplotlib->rlcard[torch]) (23.0)\n",
            "Requirement already satisfied: fonttools>=4.22.0 in /usr/local/lib/python3.9/dist-packages (from matplotlib->rlcard[torch]) (4.39.3)\n",
            "Requirement already satisfied: pyparsing>=2.3.1 in /usr/local/lib/python3.9/dist-packages (from matplotlib->rlcard[torch]) (3.0.9)\n",
            "Requirement already satisfied: python-dateutil>=2.7 in /usr/local/lib/python3.9/dist-packages (from matplotlib->rlcard[torch]) (2.8.2)\n",
            "Requirement already satisfied: kiwisolver>=1.0.1 in /usr/local/lib/python3.9/dist-packages (from matplotlib->rlcard[torch]) (1.4.4)\n",
            "Requirement already satisfied: contourpy>=1.0.1 in /usr/local/lib/python3.9/dist-packages (from matplotlib->rlcard[torch]) (1.0.7)\n",
            "Requirement already satisfied: importlib-resources>=3.2.0 in /usr/local/lib/python3.9/dist-packages (from matplotlib->rlcard[torch]) (5.12.0)\n",
            "Requirement already satisfied: typing-extensions in /usr/local/lib/python3.9/dist-packages (from torch->rlcard[torch]) (4.5.0)\n",
            "Collecting smmap<6,>=3.0.1\n",
            "  Downloading smmap-5.0.0-py3-none-any.whl (24 kB)\n",
            "Requirement already satisfied: zipp>=3.1.0 in /usr/local/lib/python3.9/dist-packages (from importlib-resources>=3.2.0->matplotlib->rlcard[torch]) (3.15.0)\n",
            "Requirement already satisfied: six>=1.5 in /usr/local/lib/python3.9/dist-packages (from python-dateutil>=2.7->matplotlib->rlcard[torch]) (1.16.0)\n",
            "Building wheels for collected packages: rlcard\n",
            "  Building wheel for rlcard (setup.py) ... \u001b[?25l\u001b[?25hdone\n",
            "  Created wheel for rlcard: filename=rlcard-1.1.0-py3-none-any.whl size=322198 sha256=a41d4ad521b6bde5f81b80178744e4b412b8982deba5e55247577c7c2beee76a\n",
            "  Stored in directory: /root/.cache/pip/wheels/1d/a8/66/5a7a7be9d7d0607ec8cabde164f3b44694800f394736ce56a4\n",
            "Successfully built rlcard\n",
            "Installing collected packages: smmap, rlcard, gitdb, GitPython, gitdb2\n",
            "Successfully installed GitPython-3.1.31 gitdb-4.0.10 gitdb2-4.0.2 rlcard-1.1.0 smmap-5.0.0\n"
          ]
        }
      ],
      "source": [
        "!pip install rlcard[torch]"
      ]
    },
    {
      "cell_type": "code",
      "source": [
        "import rlcard\n",
        "from rlcard import models\n",
        "from rlcard.agents import NFSPAgent, RandomAgent\n",
        "from rlcard.utils import (\n",
        "    get_device,\n",
        "    set_seed,\n",
        "    tournament,\n",
        "    reorganize,\n",
        "    Logger,\n",
        "    plot_curve,\n",
        ")\n",
        "import numpy as np"
      ],
      "metadata": {
        "id": "WodbRgxuqFhm"
      },
      "execution_count": 14,
      "outputs": []
    },
    {
      "cell_type": "code",
      "source": [
        "import torch"
      ],
      "metadata": {
        "id": "ZiSlQanLs6mv"
      },
      "execution_count": 3,
      "outputs": []
    },
    {
      "cell_type": "code",
      "source": [
        "env = rlcard.make(\n",
        "        'limit-holdem',\n",
        "        config={\n",
        "            'allow_step_back': True,\n",
        "            'seed': 0,\n",
        "            'game_num_players': 3\n",
        "        }\n",
        "    )\n",
        "eval_env = rlcard.make(\n",
        "    'limit-holdem',\n",
        ")"
      ],
      "metadata": {
        "id": "nWd97fSQyqi3"
      },
      "execution_count": 4,
      "outputs": []
    },
    {
      "cell_type": "code",
      "source": [
        "agent1 = torch.load('./agent1.pth')\n",
        "agent2 = torch.load('./agent2.pth')\n",
        "agent3 = torch.load('./agent3.pth')\n",
        "a = torch.load('./model.pth')"
      ],
      "metadata": {
        "id": "DXtXfEnsxYsE"
      },
      "execution_count": 32,
      "outputs": []
    },
    {
      "cell_type": "code",
      "source": [
        "random_agent = RandomAgent(num_actions=4)"
      ],
      "metadata": {
        "id": "kYIyJdjjzZQv"
      },
      "execution_count": 33,
      "outputs": []
    },
    {
      "cell_type": "code",
      "source": [
        "env.set_agents([\n",
        "  a,\n",
        "  a,\n",
        "  a,\n",
        "])"
      ],
      "metadata": {
        "id": "hgHKpja61EBz"
      },
      "execution_count": 38,
      "outputs": []
    },
    {
      "cell_type": "code",
      "source": [
        "a1, a2, a3 = 0, 0, 0\n",
        "for i in range(1000):\n",
        "  trajectories, payoffs = env.run(is_training=False)\n",
        "  a1 += payoffs[0]\n",
        "  a2 += payoffs[1]\n",
        "  a3 += payoffs[2]"
      ],
      "metadata": {
        "id": "Vt6DykDV1gM0"
      },
      "execution_count": 39,
      "outputs": []
    },
    {
      "cell_type": "code",
      "source": [
        "a1, a2, a3"
      ],
      "metadata": {
        "id": "wYn2O8_44neq",
        "outputId": "79522aff-fc63-4e11-dfc9-47761557b7d5",
        "colab": {
          "base_uri": "https://localhost:8080/"
        }
      },
      "execution_count": 40,
      "outputs": [
        {
          "output_type": "execute_result",
          "data": {
            "text/plain": [
              "(591.5, -129.0, -462.5)"
            ]
          },
          "metadata": {},
          "execution_count": 40
        }
      ]
    },
    {
      "cell_type": "code",
      "source": [],
      "metadata": {
        "id": "iXHjALL64-oR"
      },
      "execution_count": null,
      "outputs": []
    }
  ],
  "metadata": {
    "colab": {
      "name": "scratchpad",
      "provenance": []
    },
    "kernelspec": {
      "display_name": "Python 3",
      "name": "python3"
    },
    "accelerator": "GPU",
    "gpuClass": "standard"
  },
  "nbformat": 4,
  "nbformat_minor": 0
}