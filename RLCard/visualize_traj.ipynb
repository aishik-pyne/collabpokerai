{
  "cells": [
    {
      "cell_type": "code",
      "execution_count": null,
      "metadata": {
        "colab": {
          "base_uri": "https://localhost:8080/"
        },
        "id": "2FMh1AHDVMqv",
        "outputId": "c64c2347-c515-44ba-badf-859ac2196414"
      },
      "outputs": [],
      "source": [
        "# !pip install rlcard[torch]"
      ]
    },
    {
      "cell_type": "code",
      "execution_count": 2,
      "metadata": {
        "colab": {
          "base_uri": "https://localhost:8080/"
        },
        "id": "BCUWVUdJVES1",
        "outputId": "c038ef05-3505-497b-ce3d-b9bdf4bd74f4"
      },
      "outputs": [
        {
          "name": "stdout",
          "output_type": "stream",
          "text": [
            "Mounted at /content/drive\n"
          ]
        }
      ],
      "source": [
        "# from google.colab import drive\n",
        "# drive.mount('/content/drive')"
      ]
    },
    {
      "cell_type": "code",
      "execution_count": 109,
      "metadata": {
        "id": "YtLPrkCIVkmo"
      },
      "outputs": [],
      "source": [
        "import rlcard\n",
        "from rlcard.agents import RandomAgent\n",
        "from rlcard.games.base import Card\n",
        "import torch\n",
        "from IPython.display import clear_output\n",
        "from rlcard.utils import reorganize, print_card\n"
      ]
    },
    {
      "cell_type": "code",
      "execution_count": 4,
      "metadata": {
        "id": "CByQOVOrSq3W"
      },
      "outputs": [],
      "source": [
        "env = rlcard.make(\n",
        "    'limit-holdem',\n",
        "    config={\n",
        "        'seed': 42,\n",
        "        'game_num_players': 3\n",
        "    }\n",
        ")\n",
        "# agent1, agent2, agent3 = RandomAgent(num_actions=4), RandomAgent(num_actions=4), RandomAgent(num_actions=4)\n",
        "agent1 = torch.load('/content/drive/MyDrive/CS6284/nfsp_comp1.pth')\n",
        "agent2 = torch.load('/content/drive/MyDrive/CS6284/nfsp_comp2.pth')\n",
        "agent3 = torch.load('/content/drive/MyDrive/CS6284/nfsp_comp3.pth')\n",
        "env.set_agents([agent1, agent2, agent3])\n",
        "agents = env.agents\n",
        "\n"
      ]
    },
    {
      "cell_type": "code",
      "execution_count": 124,
      "metadata": {
        "id": "9hAKrGcXS0Tt"
      },
      "outputs": [],
      "source": [
        "game = env.game.init_game()\n",
        "\n",
        "old_hands = [env.game.players[i].hand for i in range(env.num_players)]\n",
        "\n",
        "cards = ['C7', 'H2', 'SA', 'HA', 'D8', 'S2']\n",
        "\n",
        "env.game.players[0].hand = [Card('C', '7'), Card('H', '2')]\n",
        "env.game.players[1].hand = [Card('S', 'A'), Card('H', 'A')]\n",
        "env.game.players[2].hand = [Card('D', '8'), Card('S', '2')]\n",
        "\n",
        "for h in old_hands:\n",
        "  if str(h[0]) not in cards:\n",
        "    env.game.dealer.deck.append(h[0])\n",
        "  if str(h[0]) not in cards:\n",
        "    env.game.dealer.deck.append(h[1])\n",
        "\n",
        "trajectories = [[] for _ in range(env.num_players)]\n",
        "\n",
        "curr_player_id = env.get_player_id()\n",
        "curr_state = env.get_state(curr_player_id)\n",
        "\n",
        "trajectories[curr_player_id].append(curr_state)\n",
        "\n",
        "while not env.is_over():\n",
        "  curr_player = agents[curr_player_id]\n",
        "  curr_action = curr_player.eval_step(curr_state)\n",
        "  \n",
        "  trajectories[curr_player_id].append(curr_action)\n",
        "\n",
        "  curr_state, curr_player_id = env.step(curr_action[0], curr_player.use_raw)\n",
        "\n",
        "\n",
        "  if not env.game.is_over():\n",
        "    trajectories[curr_player_id].append(curr_state)\n",
        "\n",
        "for player_id in range(env.num_players):\n",
        "  state = env.get_state(player_id)\n",
        "  trajectories[player_id].append(state)\n",
        "\n",
        "\n",
        "# Payoffs\n",
        "payoffs = env.get_payoffs()\n",
        "\n",
        "trajectories = reorganize(trajectories, payoffs)"
      ]
    },
    {
      "cell_type": "code",
      "execution_count": 125,
      "metadata": {
        "id": "49KwJ7vhg4kn"
      },
      "outputs": [],
      "source": [
        "def visualize_trajectory(traj, traj_env, player_id):\n",
        "  p_traj = traj[player_id]\n",
        "\n",
        "  round2name = {0: 'Pre Flop', 1: 'Flop', 2: 'Turn', 3: 'River'}\n",
        "  all_actions = ['call', 'raise', 'fold', 'check']\n",
        "  round_count = 0\n",
        "  pub_cards = []\n",
        "\n",
        "  print(f\"Player {player_id} cards\")\n",
        "  print_card(p_traj[0][0]['raw_obs']['hand'])\n",
        "  print(\"-\"*50)\n",
        "  print(round2name[round_count])\n",
        "  print(\"-\"*50)\n",
        "\n",
        "  for t in p_traj:\n",
        "    s, a, r, ns, done = t\n",
        "    old_len = len(pub_cards)\n",
        "\n",
        "    pub_cards = s['raw_obs']['public_cards']\n",
        "\n",
        "    if old_len != len(pub_cards):\n",
        "      round_count += 1\n",
        "      print(\"-\"*50)\n",
        "      print(f\"{round2name[round_count]}\")\n",
        "      print(\"-\"*50)\n",
        "      print_card(pub_cards) \n",
        "\n",
        "    print(all_actions[a[0]])\n",
        "\n",
        "    if done:\n",
        "      print(\"-\"*50)\n",
        "      print(f\"Player {player_id} got {r}\")\n",
        "\n"
      ]
    },
    {
      "cell_type": "code",
      "execution_count": 128,
      "metadata": {
        "colab": {
          "base_uri": "https://localhost:8080/"
        },
        "id": "Bk6STGG5h9BH",
        "outputId": "cb2c9a6b-26b7-4a71-be05-1a7eba9b6704"
      },
      "outputs": [
        {
          "name": "stdout",
          "output_type": "stream",
          "text": [
            "Player 2 cards\n",
            "┌─────────┐   ┌─────────┐\n",
            "│8        │   │2        │\n",
            "│         │   │         │\n",
            "│         │   │         │\n",
            "│    ♦    │   │    ♠    │\n",
            "│         │   │         │\n",
            "│         │   │         │\n",
            "│        8│   │        2│\n",
            "└─────────┘   └─────────┘\n",
            "--------------------------------------------------\n",
            "Pre Flop\n",
            "--------------------------------------------------\n",
            "call\n",
            "--------------------------------------------------\n",
            "Flop\n",
            "--------------------------------------------------\n",
            "┌─────────┐   ┌─────────┐   ┌─────────┐\n",
            "│10       │   │3        │   │5        │\n",
            "│         │   │         │   │         │\n",
            "│         │   │         │   │         │\n",
            "│    ♥    │   │    ♣    │   │    ♠    │\n",
            "│         │   │         │   │         │\n",
            "│         │   │         │   │         │\n",
            "│       01│   │        3│   │        5│\n",
            "└─────────┘   └─────────┘   └─────────┘\n",
            "raise\n",
            "raise\n",
            "fold\n",
            "--------------------------------------------------\n",
            "Player 2 got -6.0\n"
          ]
        }
      ],
      "source": [
        "visualize_trajectory(trajectories, env, 2)"
      ]
    },
    {
      "cell_type": "code",
      "execution_count": null,
      "metadata": {
        "id": "_2AO_IPRqJrV"
      },
      "outputs": [],
      "source": []
    }
  ],
  "metadata": {
    "accelerator": "GPU",
    "colab": {
      "name": "scratchpad",
      "provenance": []
    },
    "gpuClass": "standard",
    "kernelspec": {
      "display_name": "Python 3",
      "name": "python3"
    }
  },
  "nbformat": 4,
  "nbformat_minor": 0
}
