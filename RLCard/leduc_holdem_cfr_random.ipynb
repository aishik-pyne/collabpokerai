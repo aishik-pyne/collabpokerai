{
  "nbformat": 4,
  "nbformat_minor": 0,
  "metadata": {
    "colab": {
      "provenance": []
    },
    "kernelspec": {
      "name": "python3",
      "display_name": "Python 3"
    }
  },
  "cells": [
    {
      "cell_type": "markdown",
      "metadata": {
        "id": "miBl4S8JARzX"
      },
      "source": [
        "\n",
        "\n",
        "# <a href='https://github.com/datamllab/rlcard'> <center> <img src='https://miro.medium.com/max/1000/1*_9abDpNTM9Cbsd2HEXYm9Q.png' width=500 class='center' /></a> \n",
        "\n",
        "## **Training CFR on Leduc Hold'em**\n",
        "In this tutorial, we will showcase a more advanced algorithm CFR, which uses `step` and `step_back` to traverse the game tree."
      ]
    },
    {
      "cell_type": "markdown",
      "metadata": {
        "id": "DvSQRtFHfQde"
      },
      "source": [
        "First, we install RLcard and PyTorch."
      ]
    },
    {
      "cell_type": "code",
      "metadata": {
        "id": "zQ8CiXAJjQGi",
        "outputId": "652ccf85-f80a-4caf-9588-551f6f3f5e44",
        "colab": {
          "base_uri": "https://localhost:8080/"
        }
      },
      "source": [
        "!pip install rlcard[torch]"
      ],
      "execution_count": 1,
      "outputs": [
        {
          "output_type": "stream",
          "name": "stdout",
          "text": [
            "Looking in indexes: https://pypi.org/simple, https://us-python.pkg.dev/colab-wheels/public/simple/\n",
            "Collecting rlcard[torch]\n",
            "  Downloading rlcard-1.1.0.tar.gz (265 kB)\n",
            "\u001b[2K     \u001b[90m━━━━━━━━━━━━━━━━━━━━━━━━━━━━━━━━━━━━━━\u001b[0m \u001b[32m265.5/265.5 KB\u001b[0m \u001b[31m10.0 MB/s\u001b[0m eta \u001b[36m0:00:00\u001b[0m\n",
            "\u001b[?25h  Preparing metadata (setup.py) ... \u001b[?25l\u001b[?25hdone\n",
            "Requirement already satisfied: numpy>=1.16.3 in /usr/local/lib/python3.9/dist-packages (from rlcard[torch]) (1.22.4)\n",
            "Requirement already satisfied: termcolor in /usr/local/lib/python3.9/dist-packages (from rlcard[torch]) (2.2.0)\n",
            "Requirement already satisfied: torch in /usr/local/lib/python3.9/dist-packages (from rlcard[torch]) (1.13.1+cu116)\n",
            "Collecting GitPython\n",
            "  Downloading GitPython-3.1.31-py3-none-any.whl (184 kB)\n",
            "\u001b[2K     \u001b[90m━━━━━━━━━━━━━━━━━━━━━━━━━━━━━━━━━━━━━━━\u001b[0m \u001b[32m184.3/184.3 KB\u001b[0m \u001b[31m7.5 MB/s\u001b[0m eta \u001b[36m0:00:00\u001b[0m\n",
            "\u001b[?25hCollecting gitdb2\n",
            "  Downloading gitdb2-4.0.2-py3-none-any.whl (1.1 kB)\n",
            "Requirement already satisfied: matplotlib in /usr/local/lib/python3.9/dist-packages (from rlcard[torch]) (3.7.1)\n",
            "Collecting gitdb>=4.0.1\n",
            "  Downloading gitdb-4.0.10-py3-none-any.whl (62 kB)\n",
            "\u001b[2K     \u001b[90m━━━━━━━━━━━━━━━━━━━━━━━━━━━━━━━━━━━━━━━━\u001b[0m \u001b[32m62.7/62.7 KB\u001b[0m \u001b[31m4.1 MB/s\u001b[0m eta \u001b[36m0:00:00\u001b[0m\n",
            "\u001b[?25hRequirement already satisfied: importlib-resources>=3.2.0 in /usr/local/lib/python3.9/dist-packages (from matplotlib->rlcard[torch]) (5.12.0)\n",
            "Requirement already satisfied: pyparsing>=2.3.1 in /usr/local/lib/python3.9/dist-packages (from matplotlib->rlcard[torch]) (3.0.9)\n",
            "Requirement already satisfied: cycler>=0.10 in /usr/local/lib/python3.9/dist-packages (from matplotlib->rlcard[torch]) (0.11.0)\n",
            "Requirement already satisfied: packaging>=20.0 in /usr/local/lib/python3.9/dist-packages (from matplotlib->rlcard[torch]) (23.0)\n",
            "Requirement already satisfied: pillow>=6.2.0 in /usr/local/lib/python3.9/dist-packages (from matplotlib->rlcard[torch]) (8.4.0)\n",
            "Requirement already satisfied: contourpy>=1.0.1 in /usr/local/lib/python3.9/dist-packages (from matplotlib->rlcard[torch]) (1.0.7)\n",
            "Requirement already satisfied: python-dateutil>=2.7 in /usr/local/lib/python3.9/dist-packages (from matplotlib->rlcard[torch]) (2.8.2)\n",
            "Requirement already satisfied: kiwisolver>=1.0.1 in /usr/local/lib/python3.9/dist-packages (from matplotlib->rlcard[torch]) (1.4.4)\n",
            "Requirement already satisfied: fonttools>=4.22.0 in /usr/local/lib/python3.9/dist-packages (from matplotlib->rlcard[torch]) (4.39.2)\n",
            "Requirement already satisfied: typing-extensions in /usr/local/lib/python3.9/dist-packages (from torch->rlcard[torch]) (4.5.0)\n",
            "Collecting smmap<6,>=3.0.1\n",
            "  Downloading smmap-5.0.0-py3-none-any.whl (24 kB)\n",
            "Requirement already satisfied: zipp>=3.1.0 in /usr/local/lib/python3.9/dist-packages (from importlib-resources>=3.2.0->matplotlib->rlcard[torch]) (3.15.0)\n",
            "Requirement already satisfied: six>=1.5 in /usr/local/lib/python3.9/dist-packages (from python-dateutil>=2.7->matplotlib->rlcard[torch]) (1.16.0)\n",
            "Building wheels for collected packages: rlcard\n",
            "  Building wheel for rlcard (setup.py) ... \u001b[?25l\u001b[?25hdone\n",
            "  Created wheel for rlcard: filename=rlcard-1.1.0-py3-none-any.whl size=322198 sha256=19e7140096eb624b339850b764634949be5fc66b524478df00d171634530aa46\n",
            "  Stored in directory: /root/.cache/pip/wheels/1d/a8/66/5a7a7be9d7d0607ec8cabde164f3b44694800f394736ce56a4\n",
            "Successfully built rlcard\n",
            "Installing collected packages: smmap, rlcard, gitdb, GitPython, gitdb2\n",
            "Successfully installed GitPython-3.1.31 gitdb-4.0.10 gitdb2-4.0.2 rlcard-1.1.0 smmap-5.0.0\n"
          ]
        }
      ]
    },
    {
      "cell_type": "markdown",
      "source": [
        "Then we import all the classes and functions we need."
      ],
      "metadata": {
        "id": "0ToWVZr881JH"
      }
    },
    {
      "cell_type": "code",
      "source": [
        "import rlcard\n",
        "from rlcard.agents import (\n",
        "    CFRAgent,\n",
        "    RandomAgent,\n",
        ")\n",
        "from rlcard.utils import (\n",
        "    tournament,\n",
        "    Logger,\n",
        "    plot_curve,\n",
        ")"
      ],
      "metadata": {
        "id": "pfmdahQ_86_W"
      },
      "execution_count": 2,
      "outputs": []
    },
    {
      "cell_type": "markdown",
      "source": [
        "We make two environments, where one allows `step_back` so that CFR can traverse the tree, and the other for evaluation only."
      ],
      "metadata": {
        "id": "dRXGan5w9BLT"
      }
    },
    {
      "cell_type": "code",
      "source": [
        "env = rlcard.make(\n",
        "        'leduc-holdem',\n",
        "        config={\n",
        "            'allow_step_back': True,\n",
        "        }\n",
        "    )\n",
        "eval_env = rlcard.make(\n",
        "    'leduc-holdem',\n",
        ")"
      ],
      "metadata": {
        "id": "oN7k8icR89iB"
      },
      "execution_count": 3,
      "outputs": []
    },
    {
      "cell_type": "markdown",
      "source": [
        "We create the CFR agent."
      ],
      "metadata": {
        "id": "qd5fe5W_9Ukz"
      }
    },
    {
      "cell_type": "code",
      "metadata": {
        "id": "4_A_Br3Jj0xW"
      },
      "source": [
        "agent = CFRAgent(\n",
        "    env,\n",
        "    \"experiments/leduc_holdem_cfr_result/cfr_model\",\n",
        ")"
      ],
      "execution_count": 4,
      "outputs": []
    },
    {
      "cell_type": "markdown",
      "source": [
        "Here, we save the trained model in the path `experiments/leduc_holdem_cfr_result/cfr_model`. Then we use a random agent as the opponent."
      ],
      "metadata": {
        "id": "yYvb4MDz9qH6"
      }
    },
    {
      "cell_type": "code",
      "source": [
        "eval_env.set_agents([\n",
        "    agent,\n",
        "    RandomAgent(num_actions=env.num_actions),\n",
        "])"
      ],
      "metadata": {
        "id": "C4cq5mA-90W_"
      },
      "execution_count": 5,
      "outputs": []
    },
    {
      "cell_type": "markdown",
      "metadata": {
        "id": "QOMi0W94fSH7"
      },
      "source": [
        "Now we start training for `1000` iterations, i.e., 1000 games."
      ]
    },
    {
      "cell_type": "code",
      "source": [
        "with Logger(\"experiments/leduc_holdem_cfr_result\") as logger:\n",
        "    for episode in range(1000):\n",
        "        agent.train()\n",
        "        print('\\rIteration {}'.format(episode), end='')\n",
        "        # Evaluate the performance. Play with Random agents.\n",
        "        if episode % 50 == 0:\n",
        "            logger.log_performance(\n",
        "                env.timestep,\n",
        "                tournament(\n",
        "                    eval_env,\n",
        "                    10000,\n",
        "                )[0]\n",
        "            )\n",
        "\n",
        "    # Get the paths\n",
        "    csv_path, fig_path = logger.csv_path, logger.fig_path"
      ],
      "metadata": {
        "id": "MTbACbO4-D_c",
        "outputId": "aeb321b0-5f8c-4724-efe6-863dadc61ca1",
        "colab": {
          "base_uri": "https://localhost:8080/"
        }
      },
      "execution_count": 6,
      "outputs": [
        {
          "output_type": "stream",
          "name": "stdout",
          "text": [
            "Iteration 0\n",
            "----------------------------------------\n",
            "  episode      |  192\n",
            "  reward       |  -0.01665\n",
            "----------------------------------------\n",
            "Iteration 50\n",
            "----------------------------------------\n",
            "  episode      |  9792\n",
            "  reward       |  0.77585\n",
            "----------------------------------------\n",
            "Iteration 100\n",
            "----------------------------------------\n",
            "  episode      |  19392\n",
            "  reward       |  0.7854\n",
            "----------------------------------------\n",
            "Iteration 150\n",
            "----------------------------------------\n",
            "  episode      |  28992\n",
            "  reward       |  0.78825\n",
            "----------------------------------------\n",
            "Iteration 200\n",
            "----------------------------------------\n",
            "  episode      |  38592\n",
            "  reward       |  0.80715\n",
            "----------------------------------------\n",
            "Iteration 250\n",
            "----------------------------------------\n",
            "  episode      |  48192\n",
            "  reward       |  0.85315\n",
            "----------------------------------------\n",
            "Iteration 300\n",
            "----------------------------------------\n",
            "  episode      |  57792\n",
            "  reward       |  0.8147\n",
            "----------------------------------------\n",
            "Iteration 350\n",
            "----------------------------------------\n",
            "  episode      |  67392\n",
            "  reward       |  0.76355\n",
            "----------------------------------------\n",
            "Iteration 400\n",
            "----------------------------------------\n",
            "  episode      |  76992\n",
            "  reward       |  0.80255\n",
            "----------------------------------------\n",
            "Iteration 450\n",
            "----------------------------------------\n",
            "  episode      |  86592\n",
            "  reward       |  0.78445\n",
            "----------------------------------------\n",
            "Iteration 500\n",
            "----------------------------------------\n",
            "  episode      |  96192\n",
            "  reward       |  0.75345\n",
            "----------------------------------------\n",
            "Iteration 550\n",
            "----------------------------------------\n",
            "  episode      |  105792\n",
            "  reward       |  0.80305\n",
            "----------------------------------------\n",
            "Iteration 600\n",
            "----------------------------------------\n",
            "  episode      |  115392\n",
            "  reward       |  0.81325\n",
            "----------------------------------------\n",
            "Iteration 650\n",
            "----------------------------------------\n",
            "  episode      |  124992\n",
            "  reward       |  0.7852\n",
            "----------------------------------------\n",
            "Iteration 700\n",
            "----------------------------------------\n",
            "  episode      |  134592\n",
            "  reward       |  0.77935\n",
            "----------------------------------------\n",
            "Iteration 750\n",
            "----------------------------------------\n",
            "  episode      |  144192\n",
            "  reward       |  0.773\n",
            "----------------------------------------\n",
            "Iteration 800\n",
            "----------------------------------------\n",
            "  episode      |  153792\n",
            "  reward       |  0.79465\n",
            "----------------------------------------\n",
            "Iteration 850\n",
            "----------------------------------------\n",
            "  episode      |  163392\n",
            "  reward       |  0.7658\n",
            "----------------------------------------\n",
            "Iteration 900\n",
            "----------------------------------------\n",
            "  episode      |  172992\n",
            "  reward       |  0.7417\n",
            "----------------------------------------\n",
            "Iteration 950\n",
            "----------------------------------------\n",
            "  episode      |  182592\n",
            "  reward       |  0.7144\n",
            "----------------------------------------\n",
            "Iteration 999\n",
            "Logs saved in experiments/leduc_holdem_cfr_result\n"
          ]
        }
      ]
    },
    {
      "cell_type": "markdown",
      "source": [
        "We can plot the learning curve"
      ],
      "metadata": {
        "id": "d-qU4hS4-hI5"
      }
    },
    {
      "cell_type": "code",
      "metadata": {
        "id": "l_8Kuf47kghG",
        "colab": {
          "base_uri": "https://localhost:8080/",
          "height": 279
        },
        "outputId": "fc0d25c0-ac81-44c8-b26f-cc24279d9afb"
      },
      "source": [
        "plot_curve(csv_path, fig_path, 'cfr')"
      ],
      "execution_count": 7,
      "outputs": [
        {
          "output_type": "display_data",
          "data": {
            "text/plain": [
              "<Figure size 432x288 with 1 Axes>"
            ],
            "image/png": "[encoded data removed]"
          },
          "metadata": {
            "needs_background": "light"
          }
        }
      ]
    },
    {
      "cell_type": "markdown",
      "metadata": {
        "id": "1QRAbZ3vfwtW"
      },
      "source": [
        "Good job! Now you have your trained CFR agent on Leduc Hold'em!"
      ]
    },
    {
      "cell_type": "code",
      "source": [
        "print(\">> Leduc Hold'em trained model\")\n",
        "\n",
        "import rlcard\n",
        "from rlcard import models\n",
        "from rlcard.agents import LeducholdemHumanAgent as HumanAgent\n",
        "from rlcard.utils import print_card\n",
        "\n",
        "\n",
        "env = rlcard.make('leduc-holdem')\n",
        "human_agent = HumanAgent(env.num_actions)\n",
        "cfr_agent = models.load('leduc-holdem-cfr').agents[0]\n",
        "env.set_agents([\n",
        "    human_agent,\n",
        "    cfr_agent,\n",
        "])\n",
        "\n",
        "while (True):\n",
        "    print(\">> Start a new game\")\n",
        "\n",
        "    trajectories, payoffs = env.run(is_training=False)\n",
        "    # If the human does not take the final action, we need to\n",
        "    # print other players action\n",
        "    final_state = trajectories[0][-1]\n",
        "    action_record = final_state['action_record']\n",
        "    state = final_state['raw_obs']\n",
        "    _action_list = []\n",
        "    for i in range(1, len(action_record)+1):\n",
        "        if action_record[-i][0] == state['current_player']:\n",
        "            break\n",
        "        _action_list.insert(0, action_record[-i])\n",
        "    for pair in _action_list:\n",
        "        print('>> Player', pair[0], 'chooses', pair[1])\n",
        "\n",
        "    # Let's take a look at what the agent card is\n",
        "    print('===============     CFR Agent    ===============')\n",
        "    print_card(env.get_perfect_information()['hand_cards'][1])\n",
        "\n",
        "\n",
        "    print('===============     Result     ===============')\n",
        "    if payoffs[0] > 0:\n",
        "        print('You win {} chips!'.format(payoffs[0]))\n",
        "    elif payoffs[0] == 0:\n",
        "        print('It is a tie.')\n",
        "    else:\n",
        "        print('You lose {} chips!'.format(-payoffs[0]))\n",
        "    print('')\n",
        "\n",
        "    inputs = input(\"Press any key to continue, Q to exit\\n\")\n",
        "    if inputs.lower() == \"q\":\n",
        "      break"
      ],
      "metadata": {
        "colab": {
          "base_uri": "https://localhost:8080/"
        },
        "id": "Qh44XF4XJjxD",
        "outputId": "b86ebd9b-68db-420c-9952-3faeba60aaee"
      },
      "execution_count": 13,
      "outputs": [
        {
          "name": "stdout",
          "output_type": "stream",
          "text": [
            ">> Leduc Hold'em trained model\n",
            ">> Start a new game\n",
            ">> Player 1 chooses raise\n",
            "\n",
            "=============== Community Card ===============\n",
            "┌─────────┐\n",
            "│░░░░░░░░░│\n",
            "│░░░░░░░░░│\n",
            "│░░░░░░░░░│\n",
            "│░░░░░░░░░│\n",
            "│░░░░░░░░░│\n",
            "│░░░░░░░░░│\n",
            "│░░░░░░░░░│\n",
            "└─────────┘\n",
            "===============   Your Hand    ===============\n",
            "┌─────────┐\n",
            "│J        │\n",
            "│         │\n",
            "│         │\n",
            "│    ♠    │\n",
            "│         │\n",
            "│         │\n",
            "│        J│\n",
            "└─────────┘\n",
            "===============     Chips      ===============\n",
            "Yours:   ++\n",
            "Agent 1: ++++\n",
            "=========== Actions You Can Choose ===========\n",
            "0: call, 1: raise, 2: fold\n",
            "\n",
            ">> You choose action (integer): 0\n",
            ">> Player 1 chooses check\n",
            "\n",
            "=============== Community Card ===============\n",
            "┌─────────┐\n",
            "│K        │\n",
            "│         │\n",
            "│         │\n",
            "│    ♥    │\n",
            "│         │\n",
            "│         │\n",
            "│        K│\n",
            "└─────────┘\n",
            "===============   Your Hand    ===============\n",
            "┌─────────┐\n",
            "│J        │\n",
            "│         │\n",
            "│         │\n",
            "│    ♠    │\n",
            "│         │\n",
            "│         │\n",
            "│        J│\n",
            "└─────────┘\n",
            "===============     Chips      ===============\n",
            "Yours:   ++++\n",
            "Agent 1: ++++\n",
            "=========== Actions You Can Choose ===========\n",
            "0: raise, 1: fold, 2: check\n",
            "\n",
            ">> You choose action (integer): 2\n",
            ">> Player 0 chooses check\n",
            "===============     CFR Agent    ===============\n",
            "┌─────────┐\n",
            "│Q        │\n",
            "│         │\n",
            "│         │\n",
            "│    ♥    │\n",
            "│         │\n",
            "│         │\n",
            "│        Q│\n",
            "└─────────┘\n",
            "===============     Result     ===============\n",
            "You lose 2.0 chips!\n",
            "\n",
            "Press any key to continue, Q to exit\n",
            "d\n",
            ">> Start a new game\n",
            ">> Player 1 chooses call\n",
            "\n",
            "=============== Community Card ===============\n",
            "┌─────────┐\n",
            "│░░░░░░░░░│\n",
            "│░░░░░░░░░│\n",
            "│░░░░░░░░░│\n",
            "│░░░░░░░░░│\n",
            "│░░░░░░░░░│\n",
            "│░░░░░░░░░│\n",
            "│░░░░░░░░░│\n",
            "└─────────┘\n",
            "===============   Your Hand    ===============\n",
            "┌─────────┐\n",
            "│J        │\n",
            "│         │\n",
            "│         │\n",
            "│    ♥    │\n",
            "│         │\n",
            "│         │\n",
            "│        J│\n",
            "└─────────┘\n",
            "===============     Chips      ===============\n",
            "Yours:   ++\n",
            "Agent 1: ++\n",
            "=========== Actions You Can Choose ===========\n",
            "0: raise, 1: fold, 2: check\n",
            "\n",
            ">> You choose action (integer): 2\n",
            ">> Player 1 chooses raise\n",
            "\n",
            "=============== Community Card ===============\n",
            "┌─────────┐\n",
            "│Q        │\n",
            "│         │\n",
            "│         │\n",
            "│    ♥    │\n",
            "│         │\n",
            "│         │\n",
            "│        Q│\n",
            "└─────────┘\n",
            "===============   Your Hand    ===============\n",
            "┌─────────┐\n",
            "│J        │\n",
            "│         │\n",
            "│         │\n",
            "│    ♥    │\n",
            "│         │\n",
            "│         │\n",
            "│        J│\n",
            "└─────────┘\n",
            "===============     Chips      ===============\n",
            "Yours:   ++\n",
            "Agent 1: ++++++\n",
            "=========== Actions You Can Choose ===========\n",
            "0: call, 1: raise, 2: fold\n",
            "\n",
            ">> You choose action (integer): 1\n",
            ">> Player 1 chooses call\n",
            "===============     CFR Agent    ===============\n",
            "┌─────────┐\n",
            "│Q        │\n",
            "│         │\n",
            "│         │\n",
            "│    ♠    │\n",
            "│         │\n",
            "│         │\n",
            "│        Q│\n",
            "└─────────┘\n",
            "===============     Result     ===============\n",
            "You lose 5.0 chips!\n",
            "\n",
            "Press any key to continue, Q to exit\n",
            "w\n",
            ">> Start a new game\n",
            ">> Player 1 chooses fold\n",
            "===============     CFR Agent    ===============\n",
            "┌─────────┐\n",
            "│J        │\n",
            "│         │\n",
            "│         │\n",
            "│    ♠    │\n",
            "│         │\n",
            "│         │\n",
            "│        J│\n",
            "└─────────┘\n",
            "===============     Result     ===============\n",
            "You win 0.5 chips!\n",
            "\n",
            "Press any key to continue, Q to exit\n",
            "r\n",
            ">> Start a new game\n",
            "\n",
            "=============== Community Card ===============\n",
            "┌─────────┐\n",
            "│░░░░░░░░░│\n",
            "│░░░░░░░░░│\n",
            "│░░░░░░░░░│\n",
            "│░░░░░░░░░│\n",
            "│░░░░░░░░░│\n",
            "│░░░░░░░░░│\n",
            "│░░░░░░░░░│\n",
            "└─────────┘\n",
            "===============   Your Hand    ===============\n",
            "┌─────────┐\n",
            "│K        │\n",
            "│         │\n",
            "│         │\n",
            "│    ♥    │\n",
            "│         │\n",
            "│         │\n",
            "│        K│\n",
            "└─────────┘\n",
            "===============     Chips      ===============\n",
            "Yours:   +\n",
            "Agent 1: ++\n",
            "=========== Actions You Can Choose ===========\n",
            "0: call, 1: raise, 2: fold\n",
            "\n",
            ">> You choose action (integer): 0\n",
            ">> Player 1 chooses raise\n",
            "\n",
            "=============== Community Card ===============\n",
            "┌─────────┐\n",
            "│░░░░░░░░░│\n",
            "│░░░░░░░░░│\n",
            "│░░░░░░░░░│\n",
            "│░░░░░░░░░│\n",
            "│░░░░░░░░░│\n",
            "│░░░░░░░░░│\n",
            "│░░░░░░░░░│\n",
            "└─────────┘\n",
            "===============   Your Hand    ===============\n",
            "┌─────────┐\n",
            "│K        │\n",
            "│         │\n",
            "│         │\n",
            "│    ♥    │\n",
            "│         │\n",
            "│         │\n",
            "│        K│\n",
            "└─────────┘\n",
            "===============     Chips      ===============\n",
            "Yours:   ++\n",
            "Agent 1: ++++\n",
            "=========== Actions You Can Choose ===========\n",
            "0: call, 1: raise, 2: fold\n",
            "\n",
            ">> You choose action (integer): 0\n",
            ">> Player 1 chooses check\n",
            "\n",
            "=============== Community Card ===============\n",
            "┌─────────┐\n",
            "│Q        │\n",
            "│         │\n",
            "│         │\n",
            "│    ♠    │\n",
            "│         │\n",
            "│         │\n",
            "│        Q│\n",
            "└─────────┘\n",
            "===============   Your Hand    ===============\n",
            "┌─────────┐\n",
            "│K        │\n",
            "│         │\n",
            "│         │\n",
            "│    ♥    │\n",
            "│         │\n",
            "│         │\n",
            "│        K│\n",
            "└─────────┘\n",
            "===============     Chips      ===============\n",
            "Yours:   ++++\n",
            "Agent 1: ++++\n",
            "=========== Actions You Can Choose ===========\n",
            "0: raise, 1: fold, 2: check\n",
            "\n",
            ">> You choose action (integer): 1\n",
            ">> Player 0 chooses fold\n",
            "===============     CFR Agent    ===============\n",
            "┌─────────┐\n",
            "│K        │\n",
            "│         │\n",
            "│         │\n",
            "│    ♠    │\n",
            "│         │\n",
            "│         │\n",
            "│        K│\n",
            "└─────────┘\n",
            "===============     Result     ===============\n",
            "You lose 2.0 chips!\n",
            "\n",
            "Press any key to continue, Q to exit\n",
            "q\n"
          ]
        }
      ]
    }
  ]
}