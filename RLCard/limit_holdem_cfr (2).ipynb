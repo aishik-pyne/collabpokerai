{
  "nbformat": 4,
  "nbformat_minor": 0,
  "metadata": {
    "colab": {
      "provenance": []
    },
    "kernelspec": {
      "name": "python3",
      "display_name": "Python 3"
    },
    "accelerator": "GPU",
    "gpuClass": "standard"
  },
  "cells": [
    {
      "cell_type": "markdown",
      "metadata": {
        "id": "miBl4S8JARzX"
      },
      "source": [
        "\n",
        "\n",
        "# <a href='https://github.com/datamllab/rlcard'> <center> <img src='https://miro.medium.com/max/1000/1*_9abDpNTM9Cbsd2HEXYm9Q.png' width=500 class='center' /></a> \n",
        "\n",
        "## **Training CFR on Limit Hold'em**\n",
        "In this tutorial, we will showcase a more advanced algorithm CFR, which uses `step` and `step_back` to traverse the game tree."
      ]
    },
    {
      "cell_type": "markdown",
      "metadata": {
        "id": "DvSQRtFHfQde"
      },
      "source": [
        "First, we install RLcard and PyTorch."
      ]
    },
    {
      "cell_type": "code",
      "source": [
        "!pip3 install rlcard[torch]"
      ],
      "metadata": {
        "colab": {
          "base_uri": "https://localhost:8080/"
        },
        "id": "XRRv3RjgRiQ6",
        "outputId": "06bc6afc-d4e9-4a0c-8687-2fdb12cfb54f"
      },
      "execution_count": 1,
      "outputs": [
        {
          "output_type": "stream",
          "name": "stdout",
          "text": [
            "Looking in indexes: https://pypi.org/simple, https://us-python.pkg.dev/colab-wheels/public/simple/\n",
            "Requirement already satisfied: rlcard[torch] in /usr/local/lib/python3.9/dist-packages (1.1.0)\n",
            "Requirement already satisfied: termcolor in /usr/local/lib/python3.9/dist-packages (from rlcard[torch]) (2.2.0)\n",
            "Requirement already satisfied: numpy>=1.16.3 in /usr/local/lib/python3.9/dist-packages (from rlcard[torch]) (1.22.4)\n",
            "Requirement already satisfied: GitPython in /usr/local/lib/python3.9/dist-packages (from rlcard[torch]) (3.1.31)\n",
            "Requirement already satisfied: matplotlib in /usr/local/lib/python3.9/dist-packages (from rlcard[torch]) (3.7.1)\n",
            "Requirement already satisfied: gitdb2 in /usr/local/lib/python3.9/dist-packages (from rlcard[torch]) (4.0.2)\n",
            "Requirement already satisfied: torch in /usr/local/lib/python3.9/dist-packages (from rlcard[torch]) (1.13.1+cu116)\n",
            "Requirement already satisfied: gitdb>=4.0.1 in /usr/local/lib/python3.9/dist-packages (from gitdb2->rlcard[torch]) (4.0.10)\n",
            "Requirement already satisfied: fonttools>=4.22.0 in /usr/local/lib/python3.9/dist-packages (from matplotlib->rlcard[torch]) (4.39.2)\n",
            "Requirement already satisfied: packaging>=20.0 in /usr/local/lib/python3.9/dist-packages (from matplotlib->rlcard[torch]) (23.0)\n",
            "Requirement already satisfied: kiwisolver>=1.0.1 in /usr/local/lib/python3.9/dist-packages (from matplotlib->rlcard[torch]) (1.4.4)\n",
            "Requirement already satisfied: python-dateutil>=2.7 in /usr/local/lib/python3.9/dist-packages (from matplotlib->rlcard[torch]) (2.8.2)\n",
            "Requirement already satisfied: importlib-resources>=3.2.0 in /usr/local/lib/python3.9/dist-packages (from matplotlib->rlcard[torch]) (5.12.0)\n",
            "Requirement already satisfied: pillow>=6.2.0 in /usr/local/lib/python3.9/dist-packages (from matplotlib->rlcard[torch]) (8.4.0)\n",
            "Requirement already satisfied: pyparsing>=2.3.1 in /usr/local/lib/python3.9/dist-packages (from matplotlib->rlcard[torch]) (3.0.9)\n",
            "Requirement already satisfied: cycler>=0.10 in /usr/local/lib/python3.9/dist-packages (from matplotlib->rlcard[torch]) (0.11.0)\n",
            "Requirement already satisfied: contourpy>=1.0.1 in /usr/local/lib/python3.9/dist-packages (from matplotlib->rlcard[torch]) (1.0.7)\n",
            "Requirement already satisfied: typing-extensions in /usr/local/lib/python3.9/dist-packages (from torch->rlcard[torch]) (4.5.0)\n",
            "Requirement already satisfied: smmap<6,>=3.0.1 in /usr/local/lib/python3.9/dist-packages (from gitdb>=4.0.1->gitdb2->rlcard[torch]) (5.0.0)\n",
            "Requirement already satisfied: zipp>=3.1.0 in /usr/local/lib/python3.9/dist-packages (from importlib-resources>=3.2.0->matplotlib->rlcard[torch]) (3.15.0)\n",
            "Requirement already satisfied: six>=1.5 in /usr/local/lib/python3.9/dist-packages (from python-dateutil>=2.7->matplotlib->rlcard[torch]) (1.16.0)\n"
          ]
        }
      ]
    },
    {
      "cell_type": "code",
      "source": [
        "import rlcard\n",
        "from rlcard.agents import (\n",
        "    CFRAgent,\n",
        "    RandomAgent,\n",
        ")\n",
        "from rlcard.utils import (\n",
        "    tournament,\n",
        "    Logger,\n",
        "    plot_curve,\n",
        ")"
      ],
      "metadata": {
        "id": "pfmdahQ_86_W"
      },
      "execution_count": 2,
      "outputs": []
    },
    {
      "cell_type": "markdown",
      "source": [
        "We make two environments, where one allows `step_back` so that CFR can traverse the tree, and the other for evaluation only."
      ],
      "metadata": {
        "id": "dRXGan5w9BLT"
      }
    },
    {
      "cell_type": "code",
      "source": [
        "env = rlcard.make(\n",
        "        'limit-holdem',\n",
        "        config={\n",
        "            'allow_step_back': True,\n",
        "            'seed': 0,\n",
        "        }\n",
        "    )\n",
        "eval_env = rlcard.make(\n",
        "    'limit-holdem',\n",
        ")"
      ],
      "metadata": {
        "id": "oN7k8icR89iB"
      },
      "execution_count": 3,
      "outputs": []
    },
    {
      "cell_type": "code",
      "source": [
        "print(env.num_players)\n",
        "print(env.num_actions)\n",
        "print(env.state_shape)"
      ],
      "metadata": {
        "colab": {
          "base_uri": "https://localhost:8080/"
        },
        "id": "9qNGUd4-Pm1X",
        "outputId": "b49b671b-0841-483e-df53-be56184e43e7"
      },
      "execution_count": 4,
      "outputs": [
        {
          "output_type": "stream",
          "name": "stdout",
          "text": [
            "2\n",
            "4\n",
            "[[72], [72]]\n"
          ]
        }
      ]
    },
    {
      "cell_type": "markdown",
      "source": [
        "We create the CFR agent."
      ],
      "metadata": {
        "id": "qd5fe5W_9Ukz"
      }
    },
    {
      "cell_type": "code",
      "metadata": {
        "id": "4_A_Br3Jj0xW"
      },
      "source": [
        "agent1 = CFRAgent(\n",
        "    env,\n",
        "    \"experiments/limit_holdem_cfr_result/cfr_model\",\n",
        ")\n",
        "\n",
        "agent2 = CFRAgent(\n",
        "    env,\n",
        "    \"experiments/limit_holdem_cfr_result/cfr_model\",\n",
        ")"
      ],
      "execution_count": 5,
      "outputs": []
    },
    {
      "cell_type": "markdown",
      "source": [
        "Here, we save the trained model in the path `experiments/leduc_holdem_cfr_result/cfr_model`. Then we use a random agent as the opponent."
      ],
      "metadata": {
        "id": "yYvb4MDz9qH6"
      }
    },
    {
      "cell_type": "code",
      "source": [
        "eval_env.set_agents([agent1, agent2])"
      ],
      "metadata": {
        "id": "C4cq5mA-90W_"
      },
      "execution_count": 6,
      "outputs": []
    },
    {
      "cell_type": "markdown",
      "metadata": {
        "id": "QOMi0W94fSH7"
      },
      "source": [
        "Now we start training for `1000` iterations, i.e., 1000 games."
      ]
    },
    {
      "cell_type": "code",
      "source": [
        "with Logger(\"experiments/limit_holdem_cfr_result\") as logger:\n",
        "    for episode in range(10):\n",
        "        agent1.train()\n",
        "        agent2.train()\n",
        "        print('\\rIteration {}'.format(episode), end='')\n",
        "\n",
        "        # Evaluate the performance. Play with agents.\n",
        "        logger.log_performance(\n",
        "            env.timestep,\n",
        "            tournament(\n",
        "                eval_env,\n",
        "                10000,\n",
        "            )\n",
        "        )\n",
        "\n",
        "    # Get the paths\n",
        "    csv_path, fig_path = logger.csv_path, logger.fig_path"
      ],
      "metadata": {
        "id": "MTbACbO4-D_c",
        "outputId": "ed194eaf-5aab-42d9-c603-d9858d9d7712",
        "colab": {
          "base_uri": "https://localhost:8080/"
        }
      },
      "execution_count": 7,
      "outputs": [
        {
          "output_type": "stream",
          "name": "stdout",
          "text": [
            "\rIteration 0\n",
            "----------------------------------------\n",
            "  episode      |  91840\n",
            "  reward       |  [0.02335, -0.02335]\n",
            "----------------------------------------\n",
            "Iteration 1\n",
            "----------------------------------------\n",
            "  episode      |  183680\n",
            "  reward       |  [0.0378, -0.0378]\n",
            "----------------------------------------\n",
            "Iteration 2\n",
            "----------------------------------------\n",
            "  episode      |  275520\n",
            "  reward       |  [-0.0093, 0.0093]\n",
            "----------------------------------------\n",
            "Iteration 3\n",
            "----------------------------------------\n",
            "  episode      |  367360\n",
            "  reward       |  [0.0132, -0.0132]\n",
            "----------------------------------------\n",
            "Iteration 4\n",
            "----------------------------------------\n",
            "  episode      |  459200\n",
            "  reward       |  [0.0152, -0.0152]\n",
            "----------------------------------------\n",
            "Iteration 5\n",
            "----------------------------------------\n",
            "  episode      |  551040\n",
            "  reward       |  [-0.01765, 0.01765]\n",
            "----------------------------------------\n",
            "Iteration 6\n",
            "----------------------------------------\n",
            "  episode      |  642880\n",
            "  reward       |  [-0.00205, 0.00205]\n",
            "----------------------------------------\n",
            "Iteration 7\n",
            "----------------------------------------\n",
            "  episode      |  734720\n",
            "  reward       |  [0.02185, -0.02185]\n",
            "----------------------------------------\n",
            "Iteration 8\n",
            "----------------------------------------\n",
            "  episode      |  826560\n",
            "  reward       |  [0.0343, -0.0343]\n",
            "----------------------------------------\n",
            "Iteration 9\n",
            "----------------------------------------\n",
            "  episode      |  918400\n",
            "  reward       |  [-0.0058, 0.0058]\n",
            "----------------------------------------\n",
            "\n",
            "Logs saved in experiments/limit_holdem_cfr_result\n"
          ]
        }
      ]
    },
    {
      "cell_type": "code",
      "source": [
        "agent = CFRAgent(\n",
        "    env,\n",
        "    \"experiments/limit_holdem_cfr_result/cfr_model/\",\n",
        ")"
      ],
      "metadata": {
        "id": "APQg7H66mXYp"
      },
      "execution_count": 14,
      "outputs": []
    },
    {
      "cell_type": "code",
      "source": [
        "eval_env.set_agents([\n",
        "    agent,\n",
        "    RandomAgent(num_actions=env.num_actions),\n",
        "])"
      ],
      "metadata": {
        "id": "fG2pmvIemfYE"
      },
      "execution_count": 15,
      "outputs": []
    },
    {
      "cell_type": "code",
      "source": [
        "with Logger(\"experiments/limit_holdem_cfr_result\") as logger:\n",
        "    for episode in range(10):\n",
        "        agent.train()\n",
        "        print('\\rIteration {}'.format(episode), end='')\n",
        "       \n",
        "        # Evaluate the performance. Play with Random agents.\n",
        "        # if episode % 50 == 0:\n",
        "        logger.log_performance(\n",
        "            env.timestep,\n",
        "            tournament(\n",
        "                eval_env,\n",
        "                10000,\n",
        "            )[0]\n",
        "        )\n",
        "\n",
        "    # Get the paths\n",
        "    csv_path, fig_path = logger.csv_path, logger.fig_path"
      ],
      "metadata": {
        "colab": {
          "base_uri": "https://localhost:8080/"
        },
        "id": "tajuRNl1mfaT",
        "outputId": "d2d68096-7ea3-4056-b871-dbb74dd8adae"
      },
      "execution_count": 19,
      "outputs": [
        {
          "output_type": "stream",
          "name": "stdout",
          "text": [
            "\rIteration 0\n",
            "----------------------------------------\n",
            "  episode      |  1140715\n",
            "  reward       |  0.01835\n",
            "----------------------------------------\n",
            "Iteration 1\n",
            "----------------------------------------\n",
            "  episode      |  1186635\n",
            "  reward       |  0.01975\n",
            "----------------------------------------\n",
            "Iteration 2\n",
            "----------------------------------------\n",
            "  episode      |  1232555\n",
            "  reward       |  0.0431\n",
            "----------------------------------------\n",
            "Iteration 3\n",
            "----------------------------------------\n",
            "  episode      |  1278475\n",
            "  reward       |  -0.01825\n",
            "----------------------------------------\n",
            "Iteration 4\n",
            "----------------------------------------\n",
            "  episode      |  1324395\n",
            "  reward       |  0.00055\n",
            "----------------------------------------\n",
            "Iteration 5\n",
            "----------------------------------------\n",
            "  episode      |  1370315\n",
            "  reward       |  0.0357\n",
            "----------------------------------------\n",
            "Iteration 6\n",
            "----------------------------------------\n",
            "  episode      |  1416235\n",
            "  reward       |  -0.0064\n",
            "----------------------------------------\n",
            "Iteration 7\n",
            "----------------------------------------\n",
            "  episode      |  1462155\n",
            "  reward       |  0.02575\n",
            "----------------------------------------\n",
            "Iteration 8\n",
            "----------------------------------------\n",
            "  episode      |  1508075\n",
            "  reward       |  -0.0206\n",
            "----------------------------------------\n",
            "Iteration 9\n",
            "----------------------------------------\n",
            "  episode      |  1553995\n",
            "  reward       |  0.0087\n",
            "----------------------------------------\n",
            "\n",
            "Logs saved in experiments/limit_holdem_cfr_result\n"
          ]
        }
      ]
    },
    {
      "cell_type": "markdown",
      "source": [
        "We can plot the learning curve"
      ],
      "metadata": {
        "id": "d-qU4hS4-hI5"
      }
    },
    {
      "cell_type": "code",
      "metadata": {
        "id": "l_8Kuf47kghG",
        "colab": {
          "base_uri": "https://localhost:8080/",
          "height": 279
        },
        "outputId": "f03f900f-1a09-419e-a49d-a2e756e5930d"
      },
      "source": [
        "plot_curve(csv_path, fig_path, 'cfr')"
      ],
      "execution_count": 20,
      "outputs": [
        {
          "output_type": "display_data",
          "data": {
            "text/plain": [
              "<Figure size 432x288 with 1 Axes>"
            ],
            "image/png": "[encoded data removed]"
          },
          "metadata": {
            "needs_background": "light"
          }
        }
      ]
    },
    {
      "cell_type": "code",
      "source": [
        "trajectories, payoffs = eval_env.run(is_training=False)\n",
        "trajectories"
      ],
      "metadata": {
        "colab": {
          "base_uri": "https://localhost:8080/"
        },
        "id": "D38Lm9jztP6B",
        "outputId": "3ee49e2f-50a8-4894-f2d9-c927e320b6e3"
      },
      "execution_count": 22,
      "outputs": [
        {
          "output_type": "execute_result",
          "data": {
            "text/plain": [
              "[[{'legal_actions': OrderedDict([(1, None), (2, None), (3, None)]),\n",
              "   'obs': array([0., 0., 0., 0., 0., 0., 0., 0., 0., 1., 0., 0., 0., 0., 0., 0., 0.,\n",
              "          0., 0., 0., 0., 0., 0., 0., 0., 0., 0., 1., 0., 0., 0., 0., 0., 0.,\n",
              "          0., 0., 0., 0., 0., 0., 0., 0., 0., 0., 0., 0., 0., 0., 0., 0., 0.,\n",
              "          0., 1., 0., 0., 0., 0., 1., 0., 0., 0., 0., 1., 0., 0., 0., 0., 1.,\n",
              "          0., 0., 0., 0.]),\n",
              "   'raw_obs': {'hand': ['ST', 'D2'],\n",
              "    'public_cards': [],\n",
              "    'all_chips': [2, 2],\n",
              "    'my_chips': 2,\n",
              "    'legal_actions': ['raise', 'fold', 'check'],\n",
              "    'raise_nums': [1, 0, 0, 0]},\n",
              "   'raw_legal_actions': ['raise', 'fold', 'check'],\n",
              "   'action_record': [(1, 'call'), (0, 'raise'), (1, 'call'), (0, 'fold')]},\n",
              "  1,\n",
              "  {'legal_actions': OrderedDict([(1, None), (2, None), (3, None)]),\n",
              "   'obs': array([0., 0., 0., 0., 0., 0., 0., 0., 0., 1., 0., 0., 0., 0., 0., 0., 0.,\n",
              "          0., 0., 0., 0., 0., 0., 0., 1., 0., 0., 1., 0., 0., 0., 0., 0., 0.,\n",
              "          0., 0., 0., 0., 0., 1., 0., 0., 0., 0., 0., 0., 0., 0., 0., 1., 0.,\n",
              "          0., 0., 1., 0., 0., 0., 1., 0., 0., 0., 0., 1., 0., 0., 0., 0., 1.,\n",
              "          0., 0., 0., 0.]),\n",
              "   'raw_obs': {'hand': ['ST', 'D2'],\n",
              "    'public_cards': ['HQ', 'CA', 'CJ'],\n",
              "    'all_chips': [4, 4],\n",
              "    'my_chips': 4,\n",
              "    'legal_actions': ['raise', 'fold', 'check'],\n",
              "    'raise_nums': [1, 0, 0, 0]},\n",
              "   'raw_legal_actions': ['raise', 'fold', 'check'],\n",
              "   'action_record': [(1, 'call'), (0, 'raise'), (1, 'call'), (0, 'fold')]},\n",
              "  2,\n",
              "  {'legal_actions': OrderedDict([(1, None), (2, None), (3, None)]),\n",
              "   'obs': array([0., 0., 0., 0., 0., 0., 0., 0., 0., 1., 0., 0., 0., 0., 0., 0., 0.,\n",
              "          0., 0., 0., 0., 0., 0., 0., 1., 0., 0., 1., 0., 0., 0., 0., 0., 0.,\n",
              "          0., 0., 0., 0., 0., 1., 0., 0., 0., 0., 0., 0., 0., 0., 0., 1., 0.,\n",
              "          0., 0., 1., 0., 0., 0., 1., 0., 0., 0., 0., 1., 0., 0., 0., 0., 1.,\n",
              "          0., 0., 0., 0.]),\n",
              "   'raw_obs': {'hand': ['ST', 'D2'],\n",
              "    'public_cards': ['HQ', 'CA', 'CJ'],\n",
              "    'all_chips': [4, 4],\n",
              "    'my_chips': 4,\n",
              "    'legal_actions': ['raise', 'fold', 'check'],\n",
              "    'raise_nums': [1, 0, 0, 0]},\n",
              "   'raw_legal_actions': ['raise', 'fold', 'check'],\n",
              "   'action_record': [(1, 'call'), (0, 'raise'), (1, 'call'), (0, 'fold')]}],\n",
              " [{'legal_actions': OrderedDict([(0, None), (1, None), (2, None)]),\n",
              "   'obs': array([0., 0., 0., 0., 0., 0., 0., 0., 0., 0., 0., 0., 0., 1., 0., 0., 0.,\n",
              "          0., 0., 0., 0., 0., 0., 0., 0., 0., 0., 0., 0., 0., 0., 0., 0., 0.,\n",
              "          0., 0., 0., 0., 0., 0., 1., 0., 0., 0., 0., 0., 0., 0., 0., 0., 0.,\n",
              "          0., 1., 0., 0., 0., 0., 1., 0., 0., 0., 0., 1., 0., 0., 0., 0., 1.,\n",
              "          0., 0., 0., 0.]),\n",
              "   'raw_obs': {'hand': ['C2', 'HA'],\n",
              "    'public_cards': [],\n",
              "    'all_chips': [2, 1],\n",
              "    'my_chips': 1,\n",
              "    'legal_actions': ['call', 'raise', 'fold'],\n",
              "    'raise_nums': [0, 0, 0, 0]},\n",
              "   'raw_legal_actions': ['call', 'raise', 'fold'],\n",
              "   'action_record': [(1, 'call'), (0, 'raise'), (1, 'call'), (0, 'fold')]},\n",
              "  0,\n",
              "  {'legal_actions': OrderedDict([(0, None), (1, None), (2, None)]),\n",
              "   'obs': array([0., 0., 0., 0., 0., 0., 0., 0., 0., 0., 0., 0., 0., 1., 0., 0., 0.,\n",
              "          0., 0., 0., 0., 0., 0., 0., 0., 0., 0., 0., 0., 0., 0., 0., 0., 0.,\n",
              "          0., 0., 0., 0., 0., 0., 1., 0., 0., 0., 0., 0., 0., 0., 0., 0., 0.,\n",
              "          0., 0., 1., 0., 0., 0., 1., 0., 0., 0., 0., 1., 0., 0., 0., 0., 1.,\n",
              "          0., 0., 0., 0.]),\n",
              "   'raw_obs': {'hand': ['C2', 'HA'],\n",
              "    'public_cards': [],\n",
              "    'all_chips': [4, 2],\n",
              "    'my_chips': 2,\n",
              "    'legal_actions': ['call', 'raise', 'fold'],\n",
              "    'raise_nums': [1, 0, 0, 0]},\n",
              "   'raw_legal_actions': ['call', 'raise', 'fold'],\n",
              "   'action_record': [(1, 'call'), (0, 'raise'), (1, 'call'), (0, 'fold')]},\n",
              "  0,\n",
              "  {'legal_actions': OrderedDict([(1, None), (2, None), (3, None)]),\n",
              "   'obs': array([0., 0., 0., 0., 0., 0., 0., 0., 0., 0., 0., 0., 0., 1., 0., 0., 0.,\n",
              "          0., 0., 0., 0., 0., 0., 0., 1., 0., 0., 0., 0., 0., 0., 0., 0., 0.,\n",
              "          0., 0., 0., 0., 0., 1., 1., 0., 0., 0., 0., 0., 0., 0., 0., 1., 0.,\n",
              "          0., 0., 1., 0., 0., 0., 1., 0., 0., 0., 0., 1., 0., 0., 0., 0., 1.,\n",
              "          0., 0., 0., 0.]),\n",
              "   'raw_obs': {'hand': ['C2', 'HA'],\n",
              "    'public_cards': ['HQ', 'CA', 'CJ'],\n",
              "    'all_chips': [4, 4],\n",
              "    'my_chips': 4,\n",
              "    'legal_actions': ['raise', 'fold', 'check'],\n",
              "    'raise_nums': [1, 0, 0, 0]},\n",
              "   'raw_legal_actions': ['raise', 'fold', 'check'],\n",
              "   'action_record': [(1, 'call'), (0, 'raise'), (1, 'call'), (0, 'fold')]}]]"
            ]
          },
          "metadata": {},
          "execution_count": 22
        }
      ]
    },
    {
      "cell_type": "code",
      "source": [
        "env.get_perfect_information()"
      ],
      "metadata": {
        "colab": {
          "base_uri": "https://localhost:8080/"
        },
        "id": "Y1b19l_nt1jo",
        "outputId": "ab8037c9-8833-42d5-a86e-96d4dcbb4c94"
      },
      "execution_count": 23,
      "outputs": [
        {
          "output_type": "execute_result",
          "data": {
            "text/plain": [
              "{'chips': [2, 1],\n",
              " 'public_card': None,\n",
              " 'hand_cards': [['D9', 'CA'], ['DA', 'DT']],\n",
              " 'current_player': 1,\n",
              " 'legal_actions': ['call', 'raise', 'fold']}"
            ]
          },
          "metadata": {},
          "execution_count": 23
        }
      ]
    },
    {
      "cell_type": "markdown",
      "metadata": {
        "id": "1QRAbZ3vfwtW"
      },
      "source": [
        "Good job! Now you have your trained CFR agent on Limit Hold'em!"
      ]
    }
  ]
}